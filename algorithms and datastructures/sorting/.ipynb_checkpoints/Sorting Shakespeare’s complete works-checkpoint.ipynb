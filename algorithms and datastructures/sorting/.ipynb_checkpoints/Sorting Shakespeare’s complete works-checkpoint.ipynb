{
 "cells": [
  {
   "cell_type": "code",
   "execution_count": 1,
   "metadata": {},
   "outputs": [],
   "source": [
    "import time \n",
    "import re\n",
    "import string\n",
    "\n",
    "from heapSort import heapSort\n",
    "from mergeSort import mergeSort\n",
    "from selectionSort import selectionSort\n",
    "from insertionSort import insertionSort\n",
    "from radixSort import radixSort\n",
    "\n",
    "f = open('shakespeare-complete-works.txt' , 'r')\n",
    "file = f.read()"
   ]
  },
  {
   "cell_type": "code",
   "execution_count": 2,
   "metadata": {},
   "outputs": [],
   "source": [
    "def clean_text(text):\n",
    "    # lowercase:\n",
    "    text = text.lower()\n",
    "    # Fjerner tekst i square brackets\n",
    "    text = re.sub('\\[.*?\\]', '', text)\n",
    "    # Fjerner tekst i parentes\n",
    "    text = re.sub('\\(.*?\\)', '', text)\n",
    "    # Fjerner punctuation\n",
    "    text = re.sub('[%s]' % re.escape(string.punctuation), '', text)\n",
    "    # fjerner new line\n",
    "    text = re.sub('\\n', '', text)\n",
    "    \n",
    "    text = ''.join([i for i in text if not i.isdigit()])\n",
    "\n",
    "    # fjerner ekstra mellemrum\n",
    "    text = re.sub('  ', ' ', text)\n",
    "    # Fjerner \\xa0 samt bindestreger\n",
    "    text = re.sub(r'[^\\x00-\\x7F]+',' ', text)\n",
    "    text = \" \".join(text.split())\n",
    "    return text"
   ]
  },
  {
   "cell_type": "code",
   "execution_count": 3,
   "metadata": {},
   "outputs": [],
   "source": [
    "def Convert(string): \n",
    "    li = list(string.split(' ')) \n",
    "    return li "
   ]
  },
  {
   "cell_type": "code",
   "execution_count": 4,
   "metadata": {},
   "outputs": [
    {
     "name": "stdout",
     "output_type": "stream",
     "text": [
      "heapSort time: 24.19596266746521\n"
     ]
    }
   ],
   "source": [
    "textArray = Convert(clean_text(file)) \n",
    "start = time.time()\n",
    "heapSort(textArray)\n",
    "end = time.time()\n",
    "print('heapSort time:', end - start)"
   ]
  },
  {
   "cell_type": "code",
   "execution_count": 5,
   "metadata": {},
   "outputs": [
    {
     "name": "stdout",
     "output_type": "stream",
     "text": [
      "mergeSort time: 15.7986581325531\n"
     ]
    }
   ],
   "source": [
    "textArray = Convert(clean_text(file)) \n",
    "start = time.time()\n",
    "mergeSort(textArray)\n",
    "end = time.time()\n",
    "print('mergeSort time:', end - start)"
   ]
  },
  {
   "cell_type": "code",
   "execution_count": null,
   "metadata": {},
   "outputs": [
    {
     "name": "stdout",
     "output_type": "stream",
     "text": [
      "takes forever\n"
     ]
    }
   ],
   "source": [
    "textArray = Convert(clean_text(file)) \n",
    "print('takes forever')\n",
    "start = time.time()\n",
    "selectionSort(textArray)\n",
    "end = time.time()\n",
    "print('selectionSort time:', end - start)"
   ]
  },
  {
   "cell_type": "code",
   "execution_count": null,
   "metadata": {},
   "outputs": [],
   "source": [
    "textArray = Convert(clean_text(file)) \n",
    "print('takes forever')\n",
    "start = time.time()\n",
    "insertionSort(textArray)\n",
    "end = time.time()\n",
    "print('insertionSort time:', end - start)"
   ]
  },
  {
   "cell_type": "markdown",
   "metadata": {},
   "source": [
    "textArray = Convert(clean_text(file)) \n",
    "start = time.time()\n",
    "radixSort(textArray)\n",
    "end = time.time()\n",
    "print('radixSort time:', end - start)"
   ]
  },
  {
   "cell_type": "markdown",
   "metadata": {},
   "source": [
    "def radixSort(lst):\n",
    "    RADIX = 10\n",
    "    placement = 1\n",
    "\n",
    "    # get the maximum number\n",
    "    max_digit = max(lst)\n",
    "\n",
    "    while placement < max_digit:\n",
    "        # declare and initialize buckets\n",
    "        buckets = [list() for _ in range(RADIX)]\n",
    "\n",
    "        # split lst between lists\n",
    "        for i in lst:\n",
    "            tmp = int((i / placement) % RADIX)\n",
    "            buckets[tmp].append(i)\n",
    "\n",
    "        # empty lists into lst array\n",
    "        a = 0\n",
    "        for b in range(RADIX):\n",
    "            buck = buckets[b]\n",
    "            for i in buck:\n",
    "                lst[a] = i\n",
    "                a += 1\n",
    "\n",
    "        # move to next\n",
    "        placement *= RADIX\n"
   ]
  },
  {
   "cell_type": "markdown",
   "metadata": {},
   "source": [
    "radixSort(textArray)"
   ]
  },
  {
   "cell_type": "code",
   "execution_count": null,
   "metadata": {},
   "outputs": [],
   "source": []
  }
 ],
 "metadata": {
  "kernelspec": {
   "display_name": "Python 3",
   "language": "python",
   "name": "python3"
  },
  "language_info": {
   "codemirror_mode": {
    "name": "ipython",
    "version": 3
   },
   "file_extension": ".py",
   "mimetype": "text/x-python",
   "name": "python",
   "nbconvert_exporter": "python",
   "pygments_lexer": "ipython3",
   "version": "3.7.1"
  }
 },
 "nbformat": 4,
 "nbformat_minor": 2
}
