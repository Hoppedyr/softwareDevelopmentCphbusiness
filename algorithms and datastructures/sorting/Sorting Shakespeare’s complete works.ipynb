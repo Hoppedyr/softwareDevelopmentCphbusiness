{
 "cells": [
  {
   "cell_type": "code",
   "execution_count": 6,
   "metadata": {},
   "outputs": [],
   "source": [
    "import time \n",
    "import re\n",
    "import string\n",
    "\n",
    "from heapSort import heapSort\n",
    "from mergeSort import mergeSort\n",
    "from selectionSort import selectionSort\n",
    "from insertionSort import insertionSort\n",
    "from radixSort import radixSort\n",
    "\n",
    "f = open('shakespeare-complete-works.txt' , 'r')\n",
    "file = f.read()"
   ]
  },
  {
   "cell_type": "code",
   "execution_count": 7,
   "metadata": {},
   "outputs": [],
   "source": [
    "def clean_text(text):\n",
    "    text = text.lower()\n",
    "    text = re.sub('\\[.*?\\]', '', text)\n",
    "    text = re.sub('\\(.*?\\)', '', text)\n",
    "    text = re.sub('[%s]' % re.escape(string.punctuation), '', text)\n",
    "    text = re.sub('\\n', '', text)\n",
    "    text = ''.join([i for i in text if not i.isdigit()])\n",
    "    text = re.sub('  ', ' ', text)\n",
    "    text = re.sub(r'[^\\x00-\\x7F]+',' ', text)\n",
    "    text = \" \".join(text.split())\n",
    "    return text"
   ]
  },
  {
   "cell_type": "code",
   "execution_count": 8,
   "metadata": {},
   "outputs": [],
   "source": [
    "def Convert(string): \n",
    "    li = list(string.split(' ')) \n",
    "    return li "
   ]
  },
  {
   "cell_type": "code",
   "execution_count": null,
   "metadata": {},
   "outputs": [],
   "source": [
    "textArray = Convert(clean_text(file)) \n",
    "start = time.time()\n",
    "heapSort(textArray)\n",
    "end = time.time()\n",
    "print('heapSort time:', end - start)"
   ]
  },
  {
   "cell_type": "code",
   "execution_count": null,
   "metadata": {},
   "outputs": [],
   "source": [
    "textArray = Convert(clean_text(file)) \n",
    "start = time.time()\n",
    "mergeSort(textArray)\n",
    "end = time.time()\n",
    "print('mergeSort time:', end - start)"
   ]
  },
  {
   "cell_type": "code",
   "execution_count": null,
   "metadata": {},
   "outputs": [],
   "source": [
    "textArray = Convert(clean_text(file)) \n",
    "print('takes forever')\n",
    "start = time.time()\n",
    "selectionSort(textArray)\n",
    "end = time.time()\n",
    "print('selectionSort time:', end - start)"
   ]
  },
  {
   "cell_type": "code",
   "execution_count": null,
   "metadata": {},
   "outputs": [],
   "source": [
    "textArray = Convert(clean_text(file)) \n",
    "print('takes forever')\n",
    "start = time.time()\n",
    "insertionSort(textArray)\n",
    "end = time.time()\n",
    "print('insertionSort time:', end - start)"
   ]
  },
  {
   "cell_type": "code",
   "execution_count": null,
   "metadata": {},
   "outputs": [],
   "source": []
  }
 ],
 "metadata": {
  "kernelspec": {
   "display_name": "Python 3",
   "language": "python",
   "name": "python3"
  },
  "language_info": {
   "codemirror_mode": {
    "name": "ipython",
    "version": 3
   },
   "file_extension": ".py",
   "mimetype": "text/x-python",
   "name": "python",
   "nbconvert_exporter": "python",
   "pygments_lexer": "ipython3",
   "version": "3.7.1"
  }
 },
 "nbformat": 4,
 "nbformat_minor": 2
}
